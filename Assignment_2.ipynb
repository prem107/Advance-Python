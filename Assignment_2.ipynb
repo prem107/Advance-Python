{
 "cells": [
  {
   "cell_type": "code",
   "execution_count": null,
   "id": "2f90a29c",
   "metadata": {},
   "outputs": [],
   "source": [
    "Q1. What is the relationship between classes and modules?\n",
    "Ans:\n",
    "Classes may generate instances (objects), and have per-instance state (instance variables). \n",
    "Modules may be mixed in to classes and other modules. The mixed in module's constants and methods blend into that class's own, \n",
    "augmenting the class's functionality. Classes, however, cannot be mixed in to anything."
   ]
  },
  {
   "cell_type": "code",
   "execution_count": null,
   "id": "e7f63285",
   "metadata": {},
   "outputs": [],
   "source": [
    "Q2. How do you make instances and classes?\n",
    "Ans:\n",
    "  To create instances of a class, you call the class using class name and pass in whatever arguments its __init__ method accepts.  "
   ]
  },
  {
   "cell_type": "code",
   "execution_count": null,
   "id": "2c2bcf4a",
   "metadata": {},
   "outputs": [],
   "source": [
    "Q3. Where and how should be class attributes created?\n",
    "Ans:Class attributes are the variables defined directly in the class that are shared by all objects of the class. \n",
    "    Instance attributes are attributes or properties attached to an instance of a class. Instance attributes are defined in the constructor. \n",
    "    Defined directly inside a class."
   ]
  },
  {
   "cell_type": "code",
   "execution_count": null,
   "id": "7fe6cd50",
   "metadata": {},
   "outputs": [],
   "source": [
    "Q4. Where and how are instance attributes created?\n",
    "Ans:\n",
    "    Instance Attributes are unique to each object, (an instance is another name for an object). Here, any Dog object we create will be able to store its name and age.\n",
    "    We can change either attribute of either dog, without affecting any other dog objects we've created. This __init__ is called the initializer."
   ]
  },
  {
   "cell_type": "code",
   "execution_count": null,
   "id": "05d5d430",
   "metadata": {},
   "outputs": [],
   "source": [
    "Q5. What does the term \"self\" in a Python class mean?\n",
    "Ans:\n",
    "    self represents the instance of the class. By using the “self” we can access the attributes and methods of the class in python.\n",
    "    It binds the attributes with the given arguments. The reason you need to use self. is because Python does not use\n",
    "    the @ syntax to refer to instance attributes.\n",
    "    "
   ]
  },
  {
   "cell_type": "code",
   "execution_count": null,
   "id": "45b84bac",
   "metadata": {},
   "outputs": [],
   "source": [
    "Q6. How does a Python class handle operator overloading?\n",
    "Ans:\n",
    "    Operator Overloading means giving extended meaning beyond their predefined operational meaning. \n",
    "    For example operator + is used to add two integers as well as join two strings and merge two lists. \n",
    "    It is achievable because '+' operator is overloaded by int class and str class."
   ]
  },
  {
   "cell_type": "code",
   "execution_count": null,
   "id": "729d4172",
   "metadata": {},
   "outputs": [],
   "source": [
    "Q7. When do you consider allowing operator overloading of your classes?\n",
    "Ans:\n",
    "    It allows you to provide an intuitive interface to users of your class, plus makes it possible for templates to work equally well with classes and built-in/intrinsic types. \n",
    "    Operator overloading allows Python operators to have user-defined meanings on user-defined types (classes)."
   ]
  },
  {
   "cell_type": "code",
   "execution_count": null,
   "id": "de90118f",
   "metadata": {},
   "outputs": [],
   "source": [
    "Q8. What is the most popular form of operator overloading?\n",
    "Ans:\n",
    "    A very popular and convenient example is the Addition (+) operator. Just think how the '+' operator \n",
    "    operates on two numbers and the same operator operates on two strings. \n",
    "    It performs “Addition” on numbers whereas it performs “Concatenation” on strings."
   ]
  },
  {
   "cell_type": "code",
   "execution_count": null,
   "id": "eff6a3bb",
   "metadata": {},
   "outputs": [],
   "source": [
    "Q9. What are the two most important concepts to grasp in order to comprehend Python OOP code?\n",
    "Ans:\n",
    "    In this article, we will elaborate on two key concepts of OOP which are inheritance and polymorphism. \n",
    "    Both inheritance and polymorphism are key ingredients for designing robust, flexible, and easy-to-maintain software."
   ]
  },
  {
   "cell_type": "code",
   "execution_count": null,
   "id": "e32feddf",
   "metadata": {},
   "outputs": [],
   "source": []
  },
  {
   "cell_type": "code",
   "execution_count": null,
   "id": "0d13858b",
   "metadata": {},
   "outputs": [],
   "source": []
  }
 ],
 "metadata": {
  "kernelspec": {
   "display_name": "Python 3 (ipykernel)",
   "language": "python",
   "name": "python3"
  },
  "language_info": {
   "codemirror_mode": {
    "name": "ipython",
    "version": 3
   },
   "file_extension": ".py",
   "mimetype": "text/x-python",
   "name": "python",
   "nbconvert_exporter": "python",
   "pygments_lexer": "ipython3",
   "version": "3.9.12"
  }
 },
 "nbformat": 4,
 "nbformat_minor": 5
}
