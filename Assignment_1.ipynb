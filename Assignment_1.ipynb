{
 "cells": [
  {
   "cell_type": "code",
   "execution_count": null,
   "id": "ca627f31",
   "metadata": {},
   "outputs": [],
   "source": [
    "Q1. What is the purpose of Python's OOP?\n",
    "Ans:\n",
    "Python is an object-oriented programming language. This means that any program can be solved in python by creating an object model. \n",
    "However, Python can be treated as procedural as well as structural language"
   ]
  },
  {
   "cell_type": "code",
   "execution_count": null,
   "id": "e7da5624",
   "metadata": {},
   "outputs": [],
   "source": [
    "Q2. Where does an inheritance search look for an attribute?\n",
    "Ans:\n",
    "The whole point of a namespace tool like the class statement is to support name inheritance. In Python, \n",
    "inheritance happens when an object is qualified, and involves searching an attribute definition tree (one or more namespaces). \n",
    "Every time you use an expression of the form object.\n"
   ]
  },
  {
   "cell_type": "code",
   "execution_count": null,
   "id": "81e1c589",
   "metadata": {},
   "outputs": [],
   "source": [
    "Q3. How do you distinguish between a class object and an instance object?\n",
    "Ans:\n",
    "class object:\n",
    "    1.Class is used as a template for declaring and creating the objects.\n",
    "    2.When a class is created, no memory is allocated\n",
    "    3.The class has to be declared first and only once.\n",
    "    4.A class can not be manipulated as they are not available in the memory.\n",
    "    5.A class is a logical entity.\n",
    "    \n",
    "instance object:\n",
    "    1.An object is an instance of a class.\n",
    "    2.Objects are allocated memory space whenever they are created.\n",
    "    3.An object is created many times as per requirement.\n",
    "    4.Objects can be manipulated.\n",
    "    5.An object is a physical entity."
   ]
  },
  {
   "cell_type": "code",
   "execution_count": null,
   "id": "eaee6c3e",
   "metadata": {},
   "outputs": [],
   "source": [
    "Q4. What makes the first argument in a class’s method function special?\n",
    "Ans:\n",
    "The calling process is automatic while the receiving process is not (its explicit). \n",
    "This is the reason the first parameter of a function in class must be the object itself. Writing this parameter as self is merely a convention. \n",
    "It is not a keyword and has no special meaning in Python.\n"
   ]
  },
  {
   "cell_type": "code",
   "execution_count": null,
   "id": "c1aa33c6",
   "metadata": {},
   "outputs": [],
   "source": [
    "Q5. What is the purpose of the __init__ method?\n",
    "Ans: \"__init__\" is a reseved method in python classes. It is known as a constructor in object oriented concepts. This method called when an object is created from the class and it allow the class to initialize the attributes of a class."
   ]
  },
  {
   "cell_type": "code",
   "execution_count": null,
   "id": "57ee6484",
   "metadata": {},
   "outputs": [],
   "source": [
    "Q6. What is the process for creating a class instance?\n",
    "Ans:\n",
    "The first method __init__() is a special method, which is called class constructor or initialization method that Python calls when you create a new instance of this class. \n",
    "You declare other class methods like normal functions with the exception that the first argument to each method is self."
   ]
  },
  {
   "cell_type": "code",
   "execution_count": null,
   "id": "18ff4cad",
   "metadata": {},
   "outputs": [],
   "source": [
    "Q7. What is the process for creating a class?\n",
    "Ans: The Instantiation Key Points. Instantiation: The new keyword is a Python operator that creates the object. \n",
    "     The new keyword is a Python operator that creates the object. this is also known as instantiating a class. \n",
    "     Initialization."
   ]
  },
  {
   "cell_type": "code",
   "execution_count": null,
   "id": "eb84efb3",
   "metadata": {},
   "outputs": [],
   "source": [
    "Q8. How would you define the superclasses of a class?\n",
    "Ans:\n",
    "A superclass is the class from which many subclasses can be created. The subclasses inherit the characteristics of a superclass. \n",
    "The superclass is also known as the parent class or base class. In the above example, Vehicle is the Superclass and its subclasses are Car, \n",
    "Truck and Motorcycle."
   ]
  },
  {
   "cell_type": "code",
   "execution_count": null,
   "id": "4bd374af",
   "metadata": {},
   "outputs": [],
   "source": []
  },
  {
   "cell_type": "code",
   "execution_count": null,
   "id": "4a2e2a8d",
   "metadata": {},
   "outputs": [],
   "source": []
  },
  {
   "cell_type": "code",
   "execution_count": null,
   "id": "3636bb26",
   "metadata": {},
   "outputs": [],
   "source": []
  },
  {
   "cell_type": "code",
   "execution_count": null,
   "id": "c691230a",
   "metadata": {},
   "outputs": [],
   "source": []
  },
  {
   "cell_type": "code",
   "execution_count": null,
   "id": "2f66d8a3",
   "metadata": {},
   "outputs": [],
   "source": []
  },
  {
   "cell_type": "code",
   "execution_count": null,
   "id": "ee8930a4",
   "metadata": {},
   "outputs": [],
   "source": []
  }
 ],
 "metadata": {
  "kernelspec": {
   "display_name": "Python 3 (ipykernel)",
   "language": "python",
   "name": "python3"
  },
  "language_info": {
   "codemirror_mode": {
    "name": "ipython",
    "version": 3
   },
   "file_extension": ".py",
   "mimetype": "text/x-python",
   "name": "python",
   "nbconvert_exporter": "python",
   "pygments_lexer": "ipython3",
   "version": "3.9.12"
  }
 },
 "nbformat": 4,
 "nbformat_minor": 5
}
